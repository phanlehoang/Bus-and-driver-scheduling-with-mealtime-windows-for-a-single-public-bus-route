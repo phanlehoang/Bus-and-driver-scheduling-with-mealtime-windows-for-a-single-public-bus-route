{
 "cells": [
  {
   "cell_type": "code",
   "execution_count": 1,
   "metadata": {},
   "outputs": [
    {
     "name": "stdout",
     "output_type": "stream",
     "text": [
      "current task 1 10\n",
      "current chain [1]\n",
      "current task 3 20\n",
      "current chain [1, 3]\n",
      "current task 5 30\n",
      "current chain [1, 3, 5]\n",
      "current task 4 20\n",
      "current chain [1, 4]\n",
      "current task 5 20\n",
      "current chain [1, 5]\n"
     ]
    },
    {
     "data": {
      "text/plain": [
       "[]"
      ]
     },
     "execution_count": 1,
     "metadata": {},
     "output_type": "execute_result"
    }
   ],
   "source": [
    "# Tesk class TaskChainFinder\n",
    "from TaskChainFinder import TaskChainFinder \n",
    "from task import Task\n",
    "tasks = [Task(1, 0, 10), Task(2, 5, 15), Task(3, 10, 20), Task(4, 15, 25), Task(5, 20, 30)]\n",
    "tcf = TaskChainFinder(tasks,15)\n",
    "tcf.depth_first_search([tasks[0]], 10)\n",
    "tcf.chains"
   ]
  },
  {
   "cell_type": "code",
   "execution_count": 2,
   "metadata": {},
   "outputs": [
    {
     "name": "stdout",
     "output_type": "stream",
     "text": [
      "0 []\n",
      "1 [Task: 3 -> 10, Task: 4 -> 15, Task: 5 -> 20]\n",
      "2 [Task: 4 -> 15, Task: 5 -> 20]\n",
      "3 [Task: 5 -> 20]\n",
      "4 []\n",
      "5 []\n"
     ]
    }
   ],
   "source": [
    "#print neighbours\n",
    "for i in range(len(tcf.neighbours)):\n",
    "    print(i, tcf.neighbours[i])"
   ]
  }
 ],
 "metadata": {
  "kernelspec": {
   "display_name": "base",
   "language": "python",
   "name": "python3"
  },
  "language_info": {
   "codemirror_mode": {
    "name": "ipython",
    "version": 3
   },
   "file_extension": ".py",
   "mimetype": "text/x-python",
   "name": "python",
   "nbconvert_exporter": "python",
   "pygments_lexer": "ipython3",
   "version": "3.9.7"
  },
  "orig_nbformat": 4
 },
 "nbformat": 4,
 "nbformat_minor": 2
}

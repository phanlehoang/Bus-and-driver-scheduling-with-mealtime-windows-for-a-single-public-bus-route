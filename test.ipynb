{
 "cells": [
  {
   "cell_type": "code",
   "execution_count": null,
   "metadata": {},
   "outputs": [],
   "source": [
    "import driver\n",
    "import task\n",
    "from bus_driver_scheduling import BusDriverScheduling\n",
    "# create drivers\n",
    "driver1 = driver.Driver(1, 2)\n",
    "driver2 = driver.Driver(3, 4)\n",
    "# create tasks\n",
    "task1 = task.Task(360, 480)\n",
    "task2 = task.Task(375, 495)\n",
    "task3 = task.Task(390, 510)\n",
    "task4 = task.Task(405, 525)\n",
    "\n",
    "\n",
    "\n"
   ]
  },
  {
   "cell_type": "code",
   "execution_count": null,
   "metadata": {},
   "outputs": [
    {
     "data": {
      "text/plain": [
       "[None,\n",
       " Task: 360 -> 480,\n",
       " Task: 375 -> 495,\n",
       " Task: 390 -> 510,\n",
       " Task: 405 -> 525,\n",
       " None]"
      ]
     },
     "execution_count": 122,
     "metadata": {},
     "output_type": "execute_result"
    }
   ],
   "source": [
    "# create BusDriverScheduling\n",
    "busDriverScheduling = BusDriverScheduling([driver1, driver2], [task1, task2, task3, task4])\n",
    "busDriverScheduling.driver_tasks"
   ]
  },
  {
   "cell_type": "code",
   "execution_count": null,
   "metadata": {},
   "outputs": [
    {
     "data": {
      "text/plain": [
       "[Task: 360 -> 480, Task: 375 -> 495, Task: 390 -> 510, Task: 405 -> 525]"
      ]
     },
     "execution_count": 123,
     "metadata": {},
     "output_type": "execute_result"
    }
   ],
   "source": [
    "busDriverScheduling.tasks\n"
   ]
  },
  {
   "cell_type": "code",
   "execution_count": null,
   "metadata": {},
   "outputs": [
    {
     "data": {
      "text/plain": [
       "<gurobi.Model Continuous instance bus_driver_scheduling: 0 constrs, 0 vars, No parameter changes>"
      ]
     },
     "execution_count": 124,
     "metadata": {},
     "output_type": "execute_result"
    }
   ],
   "source": [
    "busDriverScheduling.model\n"
   ]
  },
  {
   "cell_type": "code",
   "execution_count": null,
   "metadata": {},
   "outputs": [
    {
     "data": {
      "text/plain": [
       "<bound method Model.update of <gurobi.Model Continuous instance bus_driver_scheduling: 0 constrs, 0 vars, No parameter changes>>"
      ]
     },
     "execution_count": 125,
     "metadata": {},
     "output_type": "execute_result"
    }
   ],
   "source": [
    "busDriverScheduling.model.update"
   ]
  },
  {
   "cell_type": "code",
   "execution_count": null,
   "metadata": {},
   "outputs": [
    {
     "name": "stdout",
     "output_type": "stream",
     "text": [
      "<MVar (2, 6, 6)>\n",
      "array([[[<gurobi.Var *Awaiting Model Update*>,\n",
      "         <gurobi.Var *Awaiting Model Update*>,\n",
      "         <gurobi.Var *Awaiting Model Update*>,\n",
      "         <gurobi.Var *Awaiting Model Update*>,\n",
      "         <gurobi.Var *Awaiting Model Update*>,\n",
      "         <gurobi.Var *Awaiting Model Update*>],\n",
      "        [<gurobi.Var *Awaiting Model Update*>,\n",
      "         <gurobi.Var *Awaiting Model Update*>,\n",
      "         <gurobi.Var *Awaiting Model Update*>,\n",
      "         <gurobi.Var *Awaiting Model Update*>,\n",
      "         <gurobi.Var *Awaiting Model Update*>,\n",
      "         <gurobi.Var *Awaiting Model Update*>],\n",
      "        [<gurobi.Var *Awaiting Model Update*>,\n",
      "         <gurobi.Var *Awaiting Model Update*>,\n",
      "         <gurobi.Var *Awaiting Model Update*>,\n",
      "         <gurobi.Var *Awaiting Model Update*>,\n",
      "         <gurobi.Var *Awaiting Model Update*>,\n",
      "         <gurobi.Var *Awaiting Model Update*>],\n",
      "        [<gurobi.Var *Awaiting Model Update*>,\n",
      "         <gurobi.Var *Awaiting Model Update*>,\n",
      "         <gurobi.Var *Awaiting Model Update*>,\n",
      "         <gurobi.Var *Awaiting Model Update*>,\n",
      "         <gurobi.Var *Awaiting Model Update*>,\n",
      "         <gurobi.Var *Awaiting Model Update*>],\n",
      "        [<gurobi.Var *Awaiting Model Update*>,\n",
      "         <gurobi.Var *Awaiting Model Update*>,\n",
      "         <gurobi.Var *Awaiting Model Update*>,\n",
      "         <gurobi.Var *Awaiting Model Update*>,\n",
      "         <gurobi.Var *Awaiting Model Update*>,\n",
      "         <gurobi.Var *Awaiting Model Update*>],\n",
      "        [<gurobi.Var *Awaiting Model Update*>,\n",
      "         <gurobi.Var *Awaiting Model Update*>,\n",
      "         <gurobi.Var *Awaiting Model Update*>,\n",
      "         <gurobi.Var *Awaiting Model Update*>,\n",
      "         <gurobi.Var *Awaiting Model Update*>,\n",
      "         <gurobi.Var *Awaiting Model Update*>]],\n",
      "\n",
      "       [[<gurobi.Var *Awaiting Model Update*>,\n",
      "         <gurobi.Var *Awaiting Model Update*>,\n",
      "         <gurobi.Var *Awaiting Model Update*>,\n",
      "         <gurobi.Var *Awaiting Model Update*>,\n",
      "         <gurobi.Var *Awaiting Model Update*>,\n",
      "         <gurobi.Var *Awaiting Model Update*>],\n",
      "        [<gurobi.Var *Awaiting Model Update*>,\n",
      "         <gurobi.Var *Awaiting Model Update*>,\n",
      "         <gurobi.Var *Awaiting Model Update*>,\n",
      "         <gurobi.Var *Awaiting Model Update*>,\n",
      "         <gurobi.Var *Awaiting Model Update*>,\n",
      "         <gurobi.Var *Awaiting Model Update*>],\n",
      "        [<gurobi.Var *Awaiting Model Update*>,\n",
      "         <gurobi.Var *Awaiting Model Update*>,\n",
      "         <gurobi.Var *Awaiting Model Update*>,\n",
      "         <gurobi.Var *Awaiting Model Update*>,\n",
      "         <gurobi.Var *Awaiting Model Update*>,\n",
      "         <gurobi.Var *Awaiting Model Update*>],\n",
      "        [<gurobi.Var *Awaiting Model Update*>,\n",
      "         <gurobi.Var *Awaiting Model Update*>,\n",
      "         <gurobi.Var *Awaiting Model Update*>,\n",
      "         <gurobi.Var *Awaiting Model Update*>,\n",
      "         <gurobi.Var *Awaiting Model Update*>,\n",
      "         <gurobi.Var *Awaiting Model Update*>],\n",
      "        [<gurobi.Var *Awaiting Model Update*>,\n",
      "         <gurobi.Var *Awaiting Model Update*>,\n",
      "         <gurobi.Var *Awaiting Model Update*>,\n",
      "         <gurobi.Var *Awaiting Model Update*>,\n",
      "         <gurobi.Var *Awaiting Model Update*>,\n",
      "         <gurobi.Var *Awaiting Model Update*>],\n",
      "        [<gurobi.Var *Awaiting Model Update*>,\n",
      "         <gurobi.Var *Awaiting Model Update*>,\n",
      "         <gurobi.Var *Awaiting Model Update*>,\n",
      "         <gurobi.Var *Awaiting Model Update*>,\n",
      "         <gurobi.Var *Awaiting Model Update*>,\n",
      "         <gurobi.Var *Awaiting Model Update*>]]])\n"
     ]
    }
   ],
   "source": [
    "print(busDriverScheduling.x)"
   ]
  },
  {
   "cell_type": "code",
   "execution_count": null,
   "metadata": {},
   "outputs": [
    {
     "data": {
      "text/plain": [
       "array([0., 0., 0., 0., 0., 0.])"
      ]
     },
     "execution_count": 127,
     "metadata": {},
     "output_type": "execute_result"
    }
   ],
   "source": [
    "busDriverScheduling.roster"
   ]
  },
  {
   "cell_type": "code",
   "execution_count": null,
   "metadata": {},
   "outputs": [
    {
     "name": "stdout",
     "output_type": "stream",
     "text": [
      "Gurobi Optimizer version 10.0.1 build v10.0.1rc0 (win64)\n",
      "\n",
      "CPU model: Intel(R) Core(TM) i5-9400F CPU @ 2.90GHz, instruction set [SSE2|AVX|AVX2]\n",
      "Thread count: 6 physical cores, 6 logical processors, using up to 6 threads\n",
      "\n",
      "Optimize a model with 0 rows, 72 columns and 0 nonzeros\n",
      "Model fingerprint: 0x2c661fe4\n",
      "Variable types: 0 continuous, 72 integer (72 binary)\n",
      "Coefficient statistics:\n",
      "  Matrix range     [0e+00, 0e+00]\n",
      "  Objective range  [0e+00, 0e+00]\n",
      "  Bounds range     [1e+00, 1e+00]\n",
      "  RHS range        [0e+00, 0e+00]\n",
      "Found heuristic solution: objective 0.0000000\n",
      "\n",
      "Explored 0 nodes (0 simplex iterations) in 0.01 seconds (0.00 work units)\n",
      "Thread count was 1 (of 6 available processors)\n",
      "\n",
      "Solution count 1: 0 \n",
      "\n",
      "Optimal solution found (tolerance 1.00e-04)\n",
      "Best objective 0.000000000000e+00, best bound 0.000000000000e+00, gap 0.0000%\n"
     ]
    }
   ],
   "source": [
    "busDriverScheduling.model.optimize()"
   ]
  },
  {
   "cell_type": "code",
   "execution_count": null,
   "metadata": {},
   "outputs": [
    {
     "data": {
      "text/plain": [
       "<gurobi.Model MIP instance bus_driver_scheduling: 0 constrs, 72 vars, No parameter changes>"
      ]
     },
     "execution_count": 129,
     "metadata": {},
     "output_type": "execute_result"
    }
   ],
   "source": [
    "busDriverScheduling.model"
   ]
  },
  {
   "cell_type": "code",
   "execution_count": null,
   "metadata": {},
   "outputs": [
    {
     "data": {
      "text/plain": [
       "<gurobi.Model MIP instance bus_driver_scheduling: 0 constrs, 72 vars, No parameter changes>"
      ]
     },
     "execution_count": 130,
     "metadata": {},
     "output_type": "execute_result"
    }
   ],
   "source": [
    "busDriverScheduling.model"
   ]
  },
  {
   "cell_type": "code",
   "execution_count": null,
   "metadata": {},
   "outputs": [],
   "source": [
    "busDriverScheduling.select_first_task_constr()"
   ]
  },
  {
   "cell_type": "code",
   "execution_count": null,
   "metadata": {},
   "outputs": [
    {
     "name": "stdout",
     "output_type": "stream",
     "text": [
      "Gurobi Optimizer version 10.0.1 build v10.0.1rc0 (win64)\n",
      "\n",
      "CPU model: Intel(R) Core(TM) i5-9400F CPU @ 2.90GHz, instruction set [SSE2|AVX|AVX2]\n",
      "Thread count: 6 physical cores, 6 logical processors, using up to 6 threads\n",
      "\n",
      "Optimize a model with 2 rows, 72 columns and 12 nonzeros\n",
      "Model fingerprint: 0x31507a29\n",
      "Variable types: 0 continuous, 72 integer (72 binary)\n",
      "Coefficient statistics:\n",
      "  Matrix range     [1e+00, 1e+00]\n",
      "  Objective range  [0e+00, 0e+00]\n",
      "  Bounds range     [1e+00, 1e+00]\n",
      "  RHS range        [1e+00, 1e+00]\n",
      "\n",
      "Loaded MIP start from previous solve with objective 0\n",
      "\n",
      "\n",
      "Explored 0 nodes (0 simplex iterations) in 0.00 seconds (0.00 work units)\n",
      "Thread count was 1 (of 6 available processors)\n",
      "\n",
      "Solution count 1: 0 \n",
      "\n",
      "Optimal solution found (tolerance 1.00e-04)\n",
      "Best objective 0.000000000000e+00, best bound 0.000000000000e+00, gap 0.0000%\n"
     ]
    }
   ],
   "source": [
    "busDriverScheduling.model.optimize()"
   ]
  },
  {
   "cell_type": "code",
   "execution_count": null,
   "metadata": {},
   "outputs": [
    {
     "name": "stdout",
     "output_type": "stream",
     "text": [
      "x[0,0,0] + x[0,0,1] + x[0,0,2] + x[0,0,3] + x[0,0,4] + x[0,0,5] < 1.0 \n",
      "x[1,0,0] + x[1,0,1] + x[1,0,2] + x[1,0,3] + x[1,0,4] + x[1,0,5] < 1.0 \n"
     ]
    }
   ],
   "source": [
    "# print constr\n",
    "for constr in busDriverScheduling.model.getConstrs():\n",
    "    print(str(busDriverScheduling.model.getRow(constr))+\" \"+str(constr.Sense) + \" \" + str(constr.RHS) + \" \" )"
   ]
  },
  {
   "cell_type": "code",
   "execution_count": null,
   "metadata": {},
   "outputs": [],
   "source": [
    "busDriverScheduling.select_last_task_constr()"
   ]
  },
  {
   "cell_type": "code",
   "execution_count": null,
   "metadata": {},
   "outputs": [
    {
     "name": "stdout",
     "output_type": "stream",
     "text": [
      "Gurobi Optimizer version 10.0.1 build v10.0.1rc0 (win64)\n",
      "\n",
      "CPU model: Intel(R) Core(TM) i5-9400F CPU @ 2.90GHz, instruction set [SSE2|AVX|AVX2]\n",
      "Thread count: 6 physical cores, 6 logical processors, using up to 6 threads\n",
      "\n",
      "Optimize a model with 4 rows, 72 columns and 24 nonzeros\n",
      "Model fingerprint: 0x16f120dd\n",
      "Variable types: 0 continuous, 72 integer (72 binary)\n",
      "Coefficient statistics:\n",
      "  Matrix range     [1e+00, 1e+00]\n",
      "  Objective range  [0e+00, 0e+00]\n",
      "  Bounds range     [1e+00, 1e+00]\n",
      "  RHS range        [1e+00, 1e+00]\n",
      "\n",
      "Loaded MIP start from previous solve with objective 0\n",
      "\n",
      "\n",
      "Explored 0 nodes (0 simplex iterations) in 0.01 seconds (0.00 work units)\n",
      "Thread count was 1 (of 6 available processors)\n",
      "\n",
      "Solution count 1: 0 \n",
      "\n",
      "Optimal solution found (tolerance 1.00e-04)\n",
      "Best objective 0.000000000000e+00, best bound 0.000000000000e+00, gap 0.0000%\n"
     ]
    }
   ],
   "source": [
    "busDriverScheduling.model.optimize()"
   ]
  },
  {
   "cell_type": "code",
   "execution_count": null,
   "metadata": {},
   "outputs": [
    {
     "data": {
      "text/plain": [
       "<gurobi.Model MIP instance bus_driver_scheduling: 4 constrs, 72 vars, No parameter changes>"
      ]
     },
     "execution_count": 136,
     "metadata": {},
     "output_type": "execute_result"
    }
   ],
   "source": [
    "busDriverScheduling.model"
   ]
  },
  {
   "cell_type": "code",
   "execution_count": null,
   "metadata": {},
   "outputs": [
    {
     "name": "stdout",
     "output_type": "stream",
     "text": [
      "x[0,0,0] + x[0,0,1] + x[0,0,2] + x[0,0,3] + x[0,0,4] + x[0,0,5] < 1.0 \n",
      "x[1,0,0] + x[1,0,1] + x[1,0,2] + x[1,0,3] + x[1,0,4] + x[1,0,5] < 1.0 \n",
      "x[0,0,5] + x[0,1,5] + x[0,2,5] + x[0,3,5] + x[0,4,5] + x[0,5,5] < 1.0 \n",
      "x[1,0,5] + x[1,1,5] + x[1,2,5] + x[1,3,5] + x[1,4,5] + x[1,5,5] < 1.0 \n"
     ]
    }
   ],
   "source": [
    "for constr in busDriverScheduling.model.getConstrs():\n",
    "    print(str(busDriverScheduling.model.getRow(constr))+\" \"+str(constr.Sense) + \" \" + str(constr.RHS) + \" \" )"
   ]
  },
  {
   "cell_type": "code",
   "execution_count": null,
   "metadata": {},
   "outputs": [],
   "source": [
    "# print constrain name = \"first_task\"\n",
    "constr= busDriverScheduling.model.getConstrByName(\"first_task_0\")\n"
   ]
  },
  {
   "cell_type": "code",
   "execution_count": null,
   "metadata": {},
   "outputs": [],
   "source": [
    "type(constr)"
   ]
  },
  {
   "cell_type": "code",
   "execution_count": null,
   "metadata": {},
   "outputs": [],
   "source": [
    "busDriverScheduling.flow_balance_constr()"
   ]
  },
  {
   "cell_type": "code",
   "execution_count": null,
   "metadata": {},
   "outputs": [
    {
     "name": "stdout",
     "output_type": "stream",
     "text": [
      "Gurobi Optimizer version 10.0.1 build v10.0.1rc0 (win64)\n",
      "\n",
      "CPU model: Intel(R) Core(TM) i5-9400F CPU @ 2.90GHz, instruction set [SSE2|AVX|AVX2]\n",
      "Thread count: 6 physical cores, 6 logical processors, using up to 6 threads\n",
      "\n",
      "Optimize a model with 16 rows, 72 columns and 144 nonzeros\n",
      "Model fingerprint: 0xf1b30528\n",
      "Variable types: 0 continuous, 72 integer (72 binary)\n",
      "Coefficient statistics:\n",
      "  Matrix range     [1e+00, 1e+00]\n",
      "  Objective range  [0e+00, 0e+00]\n",
      "  Bounds range     [1e+00, 1e+00]\n",
      "  RHS range        [1e+00, 1e+00]\n",
      "\n",
      "Loaded MIP start from previous solve with objective 0\n",
      "\n",
      "\n",
      "Explored 0 nodes (0 simplex iterations) in 0.01 seconds (0.00 work units)\n",
      "Thread count was 1 (of 6 available processors)\n",
      "\n",
      "Solution count 1: 0 \n",
      "\n",
      "Optimal solution found (tolerance 1.00e-04)\n",
      "Best objective 0.000000000000e+00, best bound 0.000000000000e+00, gap 0.0000%\n"
     ]
    }
   ],
   "source": [
    "busDriverScheduling.model.optimize()"
   ]
  },
  {
   "cell_type": "code",
   "execution_count": null,
   "metadata": {},
   "outputs": [
    {
     "data": {
      "text/plain": [
       "<gurobi.Model MIP instance bus_driver_scheduling: 16 constrs, 72 vars, No parameter changes>"
      ]
     },
     "execution_count": 144,
     "metadata": {},
     "output_type": "execute_result"
    }
   ],
   "source": [
    "busDriverScheduling.model"
   ]
  },
  {
   "cell_type": "code",
   "execution_count": null,
   "metadata": {},
   "outputs": [
    {
     "name": "stdout",
     "output_type": "stream",
     "text": [
      "x[0,0,0] + x[0,0,1] + x[0,0,2] + x[0,0,3] + x[0,0,4] + x[0,0,5] < 1.0 \n",
      "x[1,0,0] + x[1,0,1] + x[1,0,2] + x[1,0,3] + x[1,0,4] + x[1,0,5] < 1.0 \n",
      "x[0,0,5] + x[0,1,5] + x[0,2,5] + x[0,3,5] + x[0,4,5] + x[0,5,5] < 1.0 \n",
      "x[1,0,5] + x[1,1,5] + x[1,2,5] + x[1,3,5] + x[1,4,5] + x[1,5,5] < 1.0 \n",
      "x[0,0,1] + x[0,0,2] + x[0,0,3] + x[0,0,4] + x[0,0,5] + -1.0 x[0,1,0] + -1.0 x[0,2,0] + -1.0 x[0,3,0] + -1.0 x[0,4,0] + -1.0 x[0,5,0] = -0.0 \n",
      "-1.0 x[0,0,1] + x[0,1,0] + x[0,1,2] + x[0,1,3] + x[0,1,4] + x[0,1,5] + -1.0 x[0,2,1] + -1.0 x[0,3,1] + -1.0 x[0,4,1] + -1.0 x[0,5,1] = -0.0 \n",
      "-1.0 x[0,0,2] + -1.0 x[0,1,2] + x[0,2,0] + x[0,2,1] + x[0,2,3] + x[0,2,4] + x[0,2,5] + -1.0 x[0,3,2] + -1.0 x[0,4,2] + -1.0 x[0,5,2] = -0.0 \n",
      "-1.0 x[0,0,3] + -1.0 x[0,1,3] + -1.0 x[0,2,3] + x[0,3,0] + x[0,3,1] + x[0,3,2] + x[0,3,4] + x[0,3,5] + -1.0 x[0,4,3] + -1.0 x[0,5,3] = -0.0 \n",
      "-1.0 x[0,0,4] + -1.0 x[0,1,4] + -1.0 x[0,2,4] + -1.0 x[0,3,4] + x[0,4,0] + x[0,4,1] + x[0,4,2] + x[0,4,3] + x[0,4,5] + -1.0 x[0,5,4] = -0.0 \n",
      "-1.0 x[0,0,5] + -1.0 x[0,1,5] + -1.0 x[0,2,5] + -1.0 x[0,3,5] + -1.0 x[0,4,5] + x[0,5,0] + x[0,5,1] + x[0,5,2] + x[0,5,3] + x[0,5,4] = -0.0 \n",
      "x[1,0,1] + x[1,0,2] + x[1,0,3] + x[1,0,4] + x[1,0,5] + -1.0 x[1,1,0] + -1.0 x[1,2,0] + -1.0 x[1,3,0] + -1.0 x[1,4,0] + -1.0 x[1,5,0] = -0.0 \n",
      "-1.0 x[1,0,1] + x[1,1,0] + x[1,1,2] + x[1,1,3] + x[1,1,4] + x[1,1,5] + -1.0 x[1,2,1] + -1.0 x[1,3,1] + -1.0 x[1,4,1] + -1.0 x[1,5,1] = -0.0 \n",
      "-1.0 x[1,0,2] + -1.0 x[1,1,2] + x[1,2,0] + x[1,2,1] + x[1,2,3] + x[1,2,4] + x[1,2,5] + -1.0 x[1,3,2] + -1.0 x[1,4,2] + -1.0 x[1,5,2] = -0.0 \n",
      "-1.0 x[1,0,3] + -1.0 x[1,1,3] + -1.0 x[1,2,3] + x[1,3,0] + x[1,3,1] + x[1,3,2] + x[1,3,4] + x[1,3,5] + -1.0 x[1,4,3] + -1.0 x[1,5,3] = -0.0 \n",
      "-1.0 x[1,0,4] + -1.0 x[1,1,4] + -1.0 x[1,2,4] + -1.0 x[1,3,4] + x[1,4,0] + x[1,4,1] + x[1,4,2] + x[1,4,3] + x[1,4,5] + -1.0 x[1,5,4] = -0.0 \n",
      "-1.0 x[1,0,5] + -1.0 x[1,1,5] + -1.0 x[1,2,5] + -1.0 x[1,3,5] + -1.0 x[1,4,5] + x[1,5,0] + x[1,5,1] + x[1,5,2] + x[1,5,3] + x[1,5,4] = -0.0 \n"
     ]
    }
   ],
   "source": [
    "for constr in busDriverScheduling.model.getConstrs():\n",
    "    print(str(busDriverScheduling.model.getRow(constr))+\" \"+str(constr.Sense) + \" \" + str(constr.RHS) + \" \" )"
   ]
  },
  {
   "cell_type": "code",
   "execution_count": null,
   "metadata": {},
   "outputs": [],
   "source": [
    "busDriverScheduling.select_one_task_constr()"
   ]
  },
  {
   "cell_type": "code",
   "execution_count": null,
   "metadata": {},
   "outputs": [
    {
     "name": "stdout",
     "output_type": "stream",
     "text": [
      "Gurobi Optimizer version 10.0.1 build v10.0.1rc0 (win64)\n",
      "\n",
      "CPU model: Intel(R) Core(TM) i5-9400F CPU @ 2.90GHz, instruction set [SSE2|AVX|AVX2]\n",
      "Thread count: 6 physical cores, 6 logical processors, using up to 6 threads\n",
      "\n",
      "Optimize a model with 20 rows, 72 columns and 184 nonzeros\n",
      "Model fingerprint: 0x87e2e6ef\n",
      "Variable types: 0 continuous, 72 integer (72 binary)\n",
      "Coefficient statistics:\n",
      "  Matrix range     [1e+00, 1e+00]\n",
      "  Objective range  [0e+00, 0e+00]\n",
      "  Bounds range     [1e+00, 1e+00]\n",
      "  RHS range        [1e+00, 1e+00]\n",
      "\n",
      "MIP start from previous solve did not produce a new incumbent solution\n",
      "MIP start from previous solve violates constraint select_one_task_1_ by 1.000000000\n",
      "\n",
      "Found heuristic solution: objective 0.0000000\n",
      "\n",
      "Explored 0 nodes (0 simplex iterations) in 0.01 seconds (0.00 work units)\n",
      "Thread count was 1 (of 6 available processors)\n",
      "\n",
      "Solution count 1: 0 \n",
      "\n",
      "Optimal solution found (tolerance 1.00e-04)\n",
      "Best objective 0.000000000000e+00, best bound 0.000000000000e+00, gap 0.0000%\n"
     ]
    }
   ],
   "source": [
    "busDriverScheduling.model.optimize()"
   ]
  },
  {
   "cell_type": "code",
   "execution_count": null,
   "metadata": {},
   "outputs": [
    {
     "data": {
      "text/plain": [
       "<gurobi.Model MIP instance bus_driver_scheduling: 20 constrs, 72 vars, No parameter changes>"
      ]
     },
     "execution_count": 148,
     "metadata": {},
     "output_type": "execute_result"
    }
   ],
   "source": [
    "busDriverScheduling.model"
   ]
  },
  {
   "cell_type": "code",
   "execution_count": null,
   "metadata": {},
   "outputs": [
    {
     "name": "stdout",
     "output_type": "stream",
     "text": [
      "Constraint select_first_task_constr: x[0,0,0] + x[0,0,1] + x[0,0,2] + x[0,0,3] + x[0,0,4] + x[0,0,5] < 1.0 \n",
      "Constraint select_first_task_constr: x[1,0,0] + x[1,0,1] + x[1,0,2] + x[1,0,3] + x[1,0,4] + x[1,0,5] < 1.0 \n",
      "Constraint select_first_task_constr: x[0,0,5] + x[0,1,5] + x[0,2,5] + x[0,3,5] + x[0,4,5] + x[0,5,5] < 1.0 \n",
      "Constraint select_first_task_constr: x[1,0,5] + x[1,1,5] + x[1,2,5] + x[1,3,5] + x[1,4,5] + x[1,5,5] < 1.0 \n",
      "Constraint select_first_task_constr: x[0,0,1] + x[0,0,2] + x[0,0,3] + x[0,0,4] + x[0,0,5] + -1.0 x[0,1,0] + -1.0 x[0,2,0] + -1.0 x[0,3,0] + -1.0 x[0,4,0] + -1.0 x[0,5,0] = -0.0 \n",
      "Constraint select_first_task_constr: -1.0 x[0,0,1] + x[0,1,0] + x[0,1,2] + x[0,1,3] + x[0,1,4] + x[0,1,5] + -1.0 x[0,2,1] + -1.0 x[0,3,1] + -1.0 x[0,4,1] + -1.0 x[0,5,1] = -0.0 \n",
      "Constraint select_first_task_constr: -1.0 x[0,0,2] + -1.0 x[0,1,2] + x[0,2,0] + x[0,2,1] + x[0,2,3] + x[0,2,4] + x[0,2,5] + -1.0 x[0,3,2] + -1.0 x[0,4,2] + -1.0 x[0,5,2] = -0.0 \n",
      "Constraint select_first_task_constr: -1.0 x[0,0,3] + -1.0 x[0,1,3] + -1.0 x[0,2,3] + x[0,3,0] + x[0,3,1] + x[0,3,2] + x[0,3,4] + x[0,3,5] + -1.0 x[0,4,3] + -1.0 x[0,5,3] = -0.0 \n",
      "Constraint select_first_task_constr: -1.0 x[0,0,4] + -1.0 x[0,1,4] + -1.0 x[0,2,4] + -1.0 x[0,3,4] + x[0,4,0] + x[0,4,1] + x[0,4,2] + x[0,4,3] + x[0,4,5] + -1.0 x[0,5,4] = -0.0 \n",
      "Constraint select_first_task_constr: -1.0 x[0,0,5] + -1.0 x[0,1,5] + -1.0 x[0,2,5] + -1.0 x[0,3,5] + -1.0 x[0,4,5] + x[0,5,0] + x[0,5,1] + x[0,5,2] + x[0,5,3] + x[0,5,4] = -0.0 \n",
      "Constraint select_first_task_constr: x[1,0,1] + x[1,0,2] + x[1,0,3] + x[1,0,4] + x[1,0,5] + -1.0 x[1,1,0] + -1.0 x[1,2,0] + -1.0 x[1,3,0] + -1.0 x[1,4,0] + -1.0 x[1,5,0] = -0.0 \n",
      "Constraint select_first_task_constr: -1.0 x[1,0,1] + x[1,1,0] + x[1,1,2] + x[1,1,3] + x[1,1,4] + x[1,1,5] + -1.0 x[1,2,1] + -1.0 x[1,3,1] + -1.0 x[1,4,1] + -1.0 x[1,5,1] = -0.0 \n",
      "Constraint select_first_task_constr: -1.0 x[1,0,2] + -1.0 x[1,1,2] + x[1,2,0] + x[1,2,1] + x[1,2,3] + x[1,2,4] + x[1,2,5] + -1.0 x[1,3,2] + -1.0 x[1,4,2] + -1.0 x[1,5,2] = -0.0 \n",
      "Constraint select_first_task_constr: -1.0 x[1,0,3] + -1.0 x[1,1,3] + -1.0 x[1,2,3] + x[1,3,0] + x[1,3,1] + x[1,3,2] + x[1,3,4] + x[1,3,5] + -1.0 x[1,4,3] + -1.0 x[1,5,3] = -0.0 \n",
      "Constraint select_first_task_constr: -1.0 x[1,0,4] + -1.0 x[1,1,4] + -1.0 x[1,2,4] + -1.0 x[1,3,4] + x[1,4,0] + x[1,4,1] + x[1,4,2] + x[1,4,3] + x[1,4,5] + -1.0 x[1,5,4] = -0.0 \n",
      "Constraint select_first_task_constr: -1.0 x[1,0,5] + -1.0 x[1,1,5] + -1.0 x[1,2,5] + -1.0 x[1,3,5] + -1.0 x[1,4,5] + x[1,5,0] + x[1,5,1] + x[1,5,2] + x[1,5,3] + x[1,5,4] = -0.0 \n",
      "Constraint select_first_task_constr: x[0,0,1] + x[0,1,1] + x[0,2,1] + x[0,3,1] + x[0,4,1] + x[1,0,1] + x[1,1,1] + x[1,2,1] + x[1,3,1] + x[1,4,1] = 1.0 \n",
      "Constraint select_first_task_constr: x[0,0,2] + x[0,1,2] + x[0,2,2] + x[0,3,2] + x[0,4,2] + x[1,0,2] + x[1,1,2] + x[1,2,2] + x[1,3,2] + x[1,4,2] = 1.0 \n",
      "Constraint select_first_task_constr: x[0,0,3] + x[0,1,3] + x[0,2,3] + x[0,3,3] + x[0,4,3] + x[1,0,3] + x[1,1,3] + x[1,2,3] + x[1,3,3] + x[1,4,3] = 1.0 \n",
      "Constraint select_first_task_constr: x[0,0,4] + x[0,1,4] + x[0,2,4] + x[0,3,4] + x[0,4,4] + x[1,0,4] + x[1,1,4] + x[1,2,4] + x[1,3,4] + x[1,4,4] = 1.0 \n"
     ]
    }
   ],
   "source": [
    "for constr in busDriverScheduling.model.getConstrs():\n",
    "    print(\"Constraint \" + busDriverScheduling.select_first_task_constr.__name__+ \": \"+str(busDriverScheduling.model.getRow(constr))+\" \"+str(constr.Sense) + \" \" + str(constr.RHS) + \" \" )"
   ]
  },
  {
   "cell_type": "code",
   "execution_count": null,
   "metadata": {},
   "outputs": [],
   "source": [
    "busDriverScheduling.consecutive_task_constr()"
   ]
  },
  {
   "cell_type": "code",
   "execution_count": null,
   "metadata": {},
   "outputs": [
    {
     "name": "stdout",
     "output_type": "stream",
     "text": [
      "Gurobi Optimizer version 10.0.1 build v10.0.1rc0 (win64)\n",
      "\n",
      "CPU model: Intel(R) Core(TM) i5-9400F CPU @ 2.90GHz, instruction set [SSE2|AVX|AVX2]\n",
      "Thread count: 6 physical cores, 6 logical processors, using up to 6 threads\n",
      "\n",
      "Optimize a model with 100 rows, 72 columns and 264 nonzeros\n",
      "Model fingerprint: 0x13e60850\n",
      "Variable types: 0 continuous, 72 integer (72 binary)\n",
      "Coefficient statistics:\n",
      "  Matrix range     [1e+00, 1e+00]\n",
      "  Objective range  [0e+00, 0e+00]\n",
      "  Bounds range     [1e+00, 1e+00]\n",
      "  RHS range        [1e+00, 1e+00]\n",
      "\n",
      "MIP start from previous solve did not produce a new incumbent solution\n",
      "MIP start from previous solve violates constraint R28 by 1.000000000\n",
      "\n",
      "Presolve removed 60 rows and 72 columns\n",
      "Presolve time: 0.00s\n",
      "\n",
      "Explored 0 nodes (0 simplex iterations) in 0.01 seconds (0.00 work units)\n",
      "Thread count was 1 (of 6 available processors)\n",
      "\n",
      "Solution count 0\n",
      "\n",
      "Model is infeasible\n",
      "Best objective -, best bound -, gap -\n"
     ]
    }
   ],
   "source": [
    "busDriverScheduling.model.optimize()"
   ]
  },
  {
   "cell_type": "code",
   "execution_count": null,
   "metadata": {},
   "outputs": [
    {
     "data": {
      "text/plain": [
       "<gurobi.Model MIP instance bus_driver_scheduling: 100 constrs, 72 vars, No parameter changes>"
      ]
     },
     "execution_count": 152,
     "metadata": {},
     "output_type": "execute_result"
    }
   ],
   "source": [
    "busDriverScheduling.model"
   ]
  },
  {
   "cell_type": "code",
   "execution_count": null,
   "metadata": {},
   "outputs": [
    {
     "name": "stdout",
     "output_type": "stream",
     "text": [
      "x[0,0,0] + x[0,0,1] + x[0,0,2] + x[0,0,3] + x[0,0,4] + x[0,0,5] < 1.0 \n",
      "x[1,0,0] + x[1,0,1] + x[1,0,2] + x[1,0,3] + x[1,0,4] + x[1,0,5] < 1.0 \n",
      "x[0,0,5] + x[0,1,5] + x[0,2,5] + x[0,3,5] + x[0,4,5] + x[0,5,5] < 1.0 \n",
      "x[1,0,5] + x[1,1,5] + x[1,2,5] + x[1,3,5] + x[1,4,5] + x[1,5,5] < 1.0 \n",
      "x[0,0,1] + x[0,0,2] + x[0,0,3] + x[0,0,4] + x[0,0,5] + -1.0 x[0,1,0] + -1.0 x[0,2,0] + -1.0 x[0,3,0] + -1.0 x[0,4,0] + -1.0 x[0,5,0] = -0.0 \n",
      "-1.0 x[0,0,1] + x[0,1,0] + x[0,1,2] + x[0,1,3] + x[0,1,4] + x[0,1,5] + -1.0 x[0,2,1] + -1.0 x[0,3,1] + -1.0 x[0,4,1] + -1.0 x[0,5,1] = -0.0 \n",
      "-1.0 x[0,0,2] + -1.0 x[0,1,2] + x[0,2,0] + x[0,2,1] + x[0,2,3] + x[0,2,4] + x[0,2,5] + -1.0 x[0,3,2] + -1.0 x[0,4,2] + -1.0 x[0,5,2] = -0.0 \n",
      "-1.0 x[0,0,3] + -1.0 x[0,1,3] + -1.0 x[0,2,3] + x[0,3,0] + x[0,3,1] + x[0,3,2] + x[0,3,4] + x[0,3,5] + -1.0 x[0,4,3] + -1.0 x[0,5,3] = -0.0 \n",
      "-1.0 x[0,0,4] + -1.0 x[0,1,4] + -1.0 x[0,2,4] + -1.0 x[0,3,4] + x[0,4,0] + x[0,4,1] + x[0,4,2] + x[0,4,3] + x[0,4,5] + -1.0 x[0,5,4] = -0.0 \n",
      "-1.0 x[0,0,5] + -1.0 x[0,1,5] + -1.0 x[0,2,5] + -1.0 x[0,3,5] + -1.0 x[0,4,5] + x[0,5,0] + x[0,5,1] + x[0,5,2] + x[0,5,3] + x[0,5,4] = -0.0 \n",
      "x[1,0,1] + x[1,0,2] + x[1,0,3] + x[1,0,4] + x[1,0,5] + -1.0 x[1,1,0] + -1.0 x[1,2,0] + -1.0 x[1,3,0] + -1.0 x[1,4,0] + -1.0 x[1,5,0] = -0.0 \n",
      "-1.0 x[1,0,1] + x[1,1,0] + x[1,1,2] + x[1,1,3] + x[1,1,4] + x[1,1,5] + -1.0 x[1,2,1] + -1.0 x[1,3,1] + -1.0 x[1,4,1] + -1.0 x[1,5,1] = -0.0 \n",
      "-1.0 x[1,0,2] + -1.0 x[1,1,2] + x[1,2,0] + x[1,2,1] + x[1,2,3] + x[1,2,4] + x[1,2,5] + -1.0 x[1,3,2] + -1.0 x[1,4,2] + -1.0 x[1,5,2] = -0.0 \n",
      "-1.0 x[1,0,3] + -1.0 x[1,1,3] + -1.0 x[1,2,3] + x[1,3,0] + x[1,3,1] + x[1,3,2] + x[1,3,4] + x[1,3,5] + -1.0 x[1,4,3] + -1.0 x[1,5,3] = -0.0 \n",
      "-1.0 x[1,0,4] + -1.0 x[1,1,4] + -1.0 x[1,2,4] + -1.0 x[1,3,4] + x[1,4,0] + x[1,4,1] + x[1,4,2] + x[1,4,3] + x[1,4,5] + -1.0 x[1,5,4] = -0.0 \n",
      "-1.0 x[1,0,5] + -1.0 x[1,1,5] + -1.0 x[1,2,5] + -1.0 x[1,3,5] + -1.0 x[1,4,5] + x[1,5,0] + x[1,5,1] + x[1,5,2] + x[1,5,3] + x[1,5,4] = -0.0 \n",
      "x[0,0,1] + x[0,1,1] + x[0,2,1] + x[0,3,1] + x[0,4,1] + x[1,0,1] + x[1,1,1] + x[1,2,1] + x[1,3,1] + x[1,4,1] = 1.0 \n",
      "x[0,0,2] + x[0,1,2] + x[0,2,2] + x[0,3,2] + x[0,4,2] + x[1,0,2] + x[1,1,2] + x[1,2,2] + x[1,3,2] + x[1,4,2] = 1.0 \n",
      "x[0,0,3] + x[0,1,3] + x[0,2,3] + x[0,3,3] + x[0,4,3] + x[1,0,3] + x[1,1,3] + x[1,2,3] + x[1,3,3] + x[1,4,3] = 1.0 \n",
      "x[0,0,4] + x[0,1,4] + x[0,2,4] + x[0,3,4] + x[0,4,4] + x[1,0,4] + x[1,1,4] + x[1,2,4] + x[1,3,4] + x[1,4,4] = 1.0 \n",
      "x[0,0,0] = -0.0 \n",
      "x[0,0,0] = -0.0 \n",
      "x[0,0,1] = -0.0 \n",
      "x[0,0,2] = -0.0 \n",
      "x[0,0,3] = -0.0 \n",
      "x[0,0,4] = -0.0 \n",
      "x[0,1,0] = -0.0 \n",
      "x[0,1,0] = -0.0 \n",
      "x[0,1,1] = -0.0 \n",
      "x[0,1,1] = -0.0 \n",
      "x[0,1,2] = -0.0 \n",
      "x[0,1,3] = -0.0 \n",
      "x[0,1,4] = -0.0 \n",
      "x[0,2,0] = -0.0 \n",
      "x[0,2,0] = -0.0 \n",
      "x[0,2,1] = -0.0 \n",
      "x[0,2,1] = -0.0 \n",
      "x[0,2,2] = -0.0 \n",
      "x[0,2,2] = -0.0 \n",
      "x[0,2,3] = -0.0 \n",
      "x[0,2,4] = -0.0 \n",
      "x[0,3,0] = -0.0 \n",
      "x[0,3,0] = -0.0 \n",
      "x[0,3,1] = -0.0 \n",
      "x[0,3,1] = -0.0 \n",
      "x[0,3,2] = -0.0 \n",
      "x[0,3,2] = -0.0 \n",
      "x[0,3,3] = -0.0 \n",
      "x[0,3,3] = -0.0 \n",
      "x[0,3,4] = -0.0 \n",
      "x[0,4,0] = -0.0 \n",
      "x[0,4,0] = -0.0 \n",
      "x[0,4,1] = -0.0 \n",
      "x[0,4,1] = -0.0 \n",
      "x[0,4,2] = -0.0 \n",
      "x[0,4,2] = -0.0 \n",
      "x[0,4,3] = -0.0 \n",
      "x[0,4,3] = -0.0 \n",
      "x[0,4,4] = -0.0 \n",
      "x[0,4,4] = -0.0 \n",
      "x[1,0,0] = -0.0 \n",
      "x[1,0,0] = -0.0 \n",
      "x[1,0,1] = -0.0 \n",
      "x[1,0,2] = -0.0 \n",
      "x[1,0,3] = -0.0 \n",
      "x[1,0,4] = -0.0 \n",
      "x[1,1,0] = -0.0 \n",
      "x[1,1,0] = -0.0 \n",
      "x[1,1,1] = -0.0 \n",
      "x[1,1,1] = -0.0 \n",
      "x[1,1,2] = -0.0 \n",
      "x[1,1,3] = -0.0 \n",
      "x[1,1,4] = -0.0 \n",
      "x[1,2,0] = -0.0 \n",
      "x[1,2,0] = -0.0 \n",
      "x[1,2,1] = -0.0 \n",
      "x[1,2,1] = -0.0 \n",
      "x[1,2,2] = -0.0 \n",
      "x[1,2,2] = -0.0 \n",
      "x[1,2,3] = -0.0 \n",
      "x[1,2,4] = -0.0 \n",
      "x[1,3,0] = -0.0 \n",
      "x[1,3,0] = -0.0 \n",
      "x[1,3,1] = -0.0 \n",
      "x[1,3,1] = -0.0 \n",
      "x[1,3,2] = -0.0 \n",
      "x[1,3,2] = -0.0 \n",
      "x[1,3,3] = -0.0 \n",
      "x[1,3,3] = -0.0 \n",
      "x[1,3,4] = -0.0 \n",
      "x[1,4,0] = -0.0 \n",
      "x[1,4,0] = -0.0 \n",
      "x[1,4,1] = -0.0 \n",
      "x[1,4,1] = -0.0 \n",
      "x[1,4,2] = -0.0 \n",
      "x[1,4,2] = -0.0 \n",
      "x[1,4,3] = -0.0 \n",
      "x[1,4,3] = -0.0 \n",
      "x[1,4,4] = -0.0 \n",
      "x[1,4,4] = -0.0 \n"
     ]
    }
   ],
   "source": [
    "for constr in busDriverScheduling.model.getConstrs():\n",
    "    print(str(busDriverScheduling.model.getRow(constr))+\" \"+str(constr.Sense) + \" \" + str(constr.RHS) + \" \" )"
   ]
  },
  {
   "cell_type": "code",
   "execution_count": null,
   "metadata": {},
   "outputs": [],
   "source": [
    "busDriverScheduling.limit_tasks_each_driver()"
   ]
  },
  {
   "cell_type": "code",
   "execution_count": null,
   "metadata": {},
   "outputs": [
    {
     "name": "stdout",
     "output_type": "stream",
     "text": [
      "Gurobi Optimizer version 10.0.1 build v10.0.1rc0 (win64)\n",
      "\n",
      "CPU model: Intel(R) Core(TM) i5-9400F CPU @ 2.90GHz, instruction set [SSE2|AVX|AVX2]\n",
      "Thread count: 6 physical cores, 6 logical processors, using up to 6 threads\n",
      "\n",
      "Optimize a model with 104 rows, 72 columns and 344 nonzeros\n",
      "Model fingerprint: 0x9baffd12\n",
      "Variable types: 0 continuous, 72 integer (72 binary)\n",
      "Coefficient statistics:\n",
      "  Matrix range     [1e+00, 1e+00]\n",
      "  Objective range  [0e+00, 0e+00]\n",
      "  Bounds range     [1e+00, 1e+00]\n",
      "  RHS range        [1e+00, 4e+00]\n",
      "\n",
      "MIP start from previous solve did not produce a new incumbent solution\n",
      "MIP start from previous solve violates constraint R28 by 1.000000000\n",
      "\n",
      "Presolve removed 60 rows and 64 columns\n",
      "Presolve time: 0.00s\n",
      "\n",
      "Explored 0 nodes (0 simplex iterations) in 0.01 seconds (0.00 work units)\n",
      "Thread count was 1 (of 6 available processors)\n",
      "\n",
      "Solution count 0\n",
      "\n",
      "Model is infeasible\n",
      "Best objective -, best bound -, gap -\n"
     ]
    }
   ],
   "source": [
    "busDriverScheduling.model.optimize()"
   ]
  },
  {
   "cell_type": "code",
   "execution_count": null,
   "metadata": {},
   "outputs": [
    {
     "data": {
      "text/plain": [
       "<gurobi.Model MIP instance bus_driver_scheduling: 104 constrs, 72 vars, No parameter changes>"
      ]
     },
     "execution_count": 156,
     "metadata": {},
     "output_type": "execute_result"
    }
   ],
   "source": [
    "busDriverScheduling.model"
   ]
  },
  {
   "cell_type": "code",
   "execution_count": null,
   "metadata": {},
   "outputs": [
    {
     "name": "stdout",
     "output_type": "stream",
     "text": [
      "x[0,0,0] + x[0,0,1] + x[0,0,2] + x[0,0,3] + x[0,0,4] + x[0,0,5] < 1.0 \n",
      "x[1,0,0] + x[1,0,1] + x[1,0,2] + x[1,0,3] + x[1,0,4] + x[1,0,5] < 1.0 \n",
      "x[0,0,5] + x[0,1,5] + x[0,2,5] + x[0,3,5] + x[0,4,5] + x[0,5,5] < 1.0 \n",
      "x[1,0,5] + x[1,1,5] + x[1,2,5] + x[1,3,5] + x[1,4,5] + x[1,5,5] < 1.0 \n",
      "x[0,0,1] + x[0,0,2] + x[0,0,3] + x[0,0,4] + x[0,0,5] + -1.0 x[0,1,0] + -1.0 x[0,2,0] + -1.0 x[0,3,0] + -1.0 x[0,4,0] + -1.0 x[0,5,0] = -0.0 \n",
      "-1.0 x[0,0,1] + x[0,1,0] + x[0,1,2] + x[0,1,3] + x[0,1,4] + x[0,1,5] + -1.0 x[0,2,1] + -1.0 x[0,3,1] + -1.0 x[0,4,1] + -1.0 x[0,5,1] = -0.0 \n",
      "-1.0 x[0,0,2] + -1.0 x[0,1,2] + x[0,2,0] + x[0,2,1] + x[0,2,3] + x[0,2,4] + x[0,2,5] + -1.0 x[0,3,2] + -1.0 x[0,4,2] + -1.0 x[0,5,2] = -0.0 \n",
      "-1.0 x[0,0,3] + -1.0 x[0,1,3] + -1.0 x[0,2,3] + x[0,3,0] + x[0,3,1] + x[0,3,2] + x[0,3,4] + x[0,3,5] + -1.0 x[0,4,3] + -1.0 x[0,5,3] = -0.0 \n",
      "-1.0 x[0,0,4] + -1.0 x[0,1,4] + -1.0 x[0,2,4] + -1.0 x[0,3,4] + x[0,4,0] + x[0,4,1] + x[0,4,2] + x[0,4,3] + x[0,4,5] + -1.0 x[0,5,4] = -0.0 \n",
      "-1.0 x[0,0,5] + -1.0 x[0,1,5] + -1.0 x[0,2,5] + -1.0 x[0,3,5] + -1.0 x[0,4,5] + x[0,5,0] + x[0,5,1] + x[0,5,2] + x[0,5,3] + x[0,5,4] = -0.0 \n",
      "x[1,0,1] + x[1,0,2] + x[1,0,3] + x[1,0,4] + x[1,0,5] + -1.0 x[1,1,0] + -1.0 x[1,2,0] + -1.0 x[1,3,0] + -1.0 x[1,4,0] + -1.0 x[1,5,0] = -0.0 \n",
      "-1.0 x[1,0,1] + x[1,1,0] + x[1,1,2] + x[1,1,3] + x[1,1,4] + x[1,1,5] + -1.0 x[1,2,1] + -1.0 x[1,3,1] + -1.0 x[1,4,1] + -1.0 x[1,5,1] = -0.0 \n",
      "-1.0 x[1,0,2] + -1.0 x[1,1,2] + x[1,2,0] + x[1,2,1] + x[1,2,3] + x[1,2,4] + x[1,2,5] + -1.0 x[1,3,2] + -1.0 x[1,4,2] + -1.0 x[1,5,2] = -0.0 \n",
      "-1.0 x[1,0,3] + -1.0 x[1,1,3] + -1.0 x[1,2,3] + x[1,3,0] + x[1,3,1] + x[1,3,2] + x[1,3,4] + x[1,3,5] + -1.0 x[1,4,3] + -1.0 x[1,5,3] = -0.0 \n",
      "-1.0 x[1,0,4] + -1.0 x[1,1,4] + -1.0 x[1,2,4] + -1.0 x[1,3,4] + x[1,4,0] + x[1,4,1] + x[1,4,2] + x[1,4,3] + x[1,4,5] + -1.0 x[1,5,4] = -0.0 \n",
      "-1.0 x[1,0,5] + -1.0 x[1,1,5] + -1.0 x[1,2,5] + -1.0 x[1,3,5] + -1.0 x[1,4,5] + x[1,5,0] + x[1,5,1] + x[1,5,2] + x[1,5,3] + x[1,5,4] = -0.0 \n",
      "x[0,0,1] + x[0,1,1] + x[0,2,1] + x[0,3,1] + x[0,4,1] + x[1,0,1] + x[1,1,1] + x[1,2,1] + x[1,3,1] + x[1,4,1] = 1.0 \n",
      "x[0,0,2] + x[0,1,2] + x[0,2,2] + x[0,3,2] + x[0,4,2] + x[1,0,2] + x[1,1,2] + x[1,2,2] + x[1,3,2] + x[1,4,2] = 1.0 \n",
      "x[0,0,3] + x[0,1,3] + x[0,2,3] + x[0,3,3] + x[0,4,3] + x[1,0,3] + x[1,1,3] + x[1,2,3] + x[1,3,3] + x[1,4,3] = 1.0 \n",
      "x[0,0,4] + x[0,1,4] + x[0,2,4] + x[0,3,4] + x[0,4,4] + x[1,0,4] + x[1,1,4] + x[1,2,4] + x[1,3,4] + x[1,4,4] = 1.0 \n",
      "x[0,0,0] = -0.0 \n",
      "x[0,0,0] = -0.0 \n",
      "x[0,0,1] = -0.0 \n",
      "x[0,0,2] = -0.0 \n",
      "x[0,0,3] = -0.0 \n",
      "x[0,0,4] = -0.0 \n",
      "x[0,1,0] = -0.0 \n",
      "x[0,1,0] = -0.0 \n",
      "x[0,1,1] = -0.0 \n",
      "x[0,1,1] = -0.0 \n",
      "x[0,1,2] = -0.0 \n",
      "x[0,1,3] = -0.0 \n",
      "x[0,1,4] = -0.0 \n",
      "x[0,2,0] = -0.0 \n",
      "x[0,2,0] = -0.0 \n",
      "x[0,2,1] = -0.0 \n",
      "x[0,2,1] = -0.0 \n",
      "x[0,2,2] = -0.0 \n",
      "x[0,2,2] = -0.0 \n",
      "x[0,2,3] = -0.0 \n",
      "x[0,2,4] = -0.0 \n",
      "x[0,3,0] = -0.0 \n",
      "x[0,3,0] = -0.0 \n",
      "x[0,3,1] = -0.0 \n",
      "x[0,3,1] = -0.0 \n",
      "x[0,3,2] = -0.0 \n",
      "x[0,3,2] = -0.0 \n",
      "x[0,3,3] = -0.0 \n",
      "x[0,3,3] = -0.0 \n",
      "x[0,3,4] = -0.0 \n",
      "x[0,4,0] = -0.0 \n",
      "x[0,4,0] = -0.0 \n",
      "x[0,4,1] = -0.0 \n",
      "x[0,4,1] = -0.0 \n",
      "x[0,4,2] = -0.0 \n",
      "x[0,4,2] = -0.0 \n",
      "x[0,4,3] = -0.0 \n",
      "x[0,4,3] = -0.0 \n",
      "x[0,4,4] = -0.0 \n",
      "x[0,4,4] = -0.0 \n",
      "x[1,0,0] = -0.0 \n",
      "x[1,0,0] = -0.0 \n",
      "x[1,0,1] = -0.0 \n",
      "x[1,0,2] = -0.0 \n",
      "x[1,0,3] = -0.0 \n",
      "x[1,0,4] = -0.0 \n",
      "x[1,1,0] = -0.0 \n",
      "x[1,1,0] = -0.0 \n",
      "x[1,1,1] = -0.0 \n",
      "x[1,1,1] = -0.0 \n",
      "x[1,1,2] = -0.0 \n",
      "x[1,1,3] = -0.0 \n",
      "x[1,1,4] = -0.0 \n",
      "x[1,2,0] = -0.0 \n",
      "x[1,2,0] = -0.0 \n",
      "x[1,2,1] = -0.0 \n",
      "x[1,2,1] = -0.0 \n",
      "x[1,2,2] = -0.0 \n",
      "x[1,2,2] = -0.0 \n",
      "x[1,2,3] = -0.0 \n",
      "x[1,2,4] = -0.0 \n",
      "x[1,3,0] = -0.0 \n",
      "x[1,3,0] = -0.0 \n",
      "x[1,3,1] = -0.0 \n",
      "x[1,3,1] = -0.0 \n",
      "x[1,3,2] = -0.0 \n",
      "x[1,3,2] = -0.0 \n",
      "x[1,3,3] = -0.0 \n",
      "x[1,3,3] = -0.0 \n",
      "x[1,3,4] = -0.0 \n",
      "x[1,4,0] = -0.0 \n",
      "x[1,4,0] = -0.0 \n",
      "x[1,4,1] = -0.0 \n",
      "x[1,4,1] = -0.0 \n",
      "x[1,4,2] = -0.0 \n",
      "x[1,4,2] = -0.0 \n",
      "x[1,4,3] = -0.0 \n",
      "x[1,4,3] = -0.0 \n",
      "x[1,4,4] = -0.0 \n",
      "x[1,4,4] = -0.0 \n",
      "x[0,1,1] + x[0,1,2] + x[0,1,3] + x[0,1,4] + x[0,1,5] + x[0,2,1] + x[0,2,2] + x[0,2,3] + x[0,2,4] + x[0,2,5] + x[0,3,1] + x[0,3,2] + x[0,3,3] + x[0,3,4] + x[0,3,5] + x[0,4,1] + x[0,4,2] + x[0,4,3] + x[0,4,4] + x[0,4,5] > 1.0 \n",
      "x[0,1,1] + x[0,1,2] + x[0,1,3] + x[0,1,4] + x[0,1,5] + x[0,2,1] + x[0,2,2] + x[0,2,3] + x[0,2,4] + x[0,2,5] + x[0,3,1] + x[0,3,2] + x[0,3,3] + x[0,3,4] + x[0,3,5] + x[0,4,1] + x[0,4,2] + x[0,4,3] + x[0,4,4] + x[0,4,5] < 2.0 \n",
      "x[1,1,1] + x[1,1,2] + x[1,1,3] + x[1,1,4] + x[1,1,5] + x[1,2,1] + x[1,2,2] + x[1,2,3] + x[1,2,4] + x[1,2,5] + x[1,3,1] + x[1,3,2] + x[1,3,3] + x[1,3,4] + x[1,3,5] + x[1,4,1] + x[1,4,2] + x[1,4,3] + x[1,4,4] + x[1,4,5] > 3.0 \n",
      "x[1,1,1] + x[1,1,2] + x[1,1,3] + x[1,1,4] + x[1,1,5] + x[1,2,1] + x[1,2,2] + x[1,2,3] + x[1,2,4] + x[1,2,5] + x[1,3,1] + x[1,3,2] + x[1,3,3] + x[1,3,4] + x[1,3,5] + x[1,4,1] + x[1,4,2] + x[1,4,3] + x[1,4,4] + x[1,4,5] < 4.0 \n"
     ]
    }
   ],
   "source": [
    "for constr in busDriverScheduling.model.getConstrs():\n",
    "    print(str(busDriverScheduling.model.getRow(constr))+\" \"+str(constr.Sense) + \" \" + str(constr.RHS) + \" \" )"
   ]
  },
  {
   "cell_type": "code",
   "execution_count": null,
   "metadata": {},
   "outputs": [],
   "source": [
    "busDriverScheduling.setObjective()"
   ]
  },
  {
   "cell_type": "code",
   "execution_count": null,
   "metadata": {},
   "outputs": [
    {
     "name": "stdout",
     "output_type": "stream",
     "text": [
      "Gurobi Optimizer version 10.0.1 build v10.0.1rc0 (win64)\n",
      "\n",
      "CPU model: Intel(R) Core(TM) i5-9400F CPU @ 2.90GHz, instruction set [SSE2|AVX|AVX2]\n",
      "Thread count: 6 physical cores, 6 logical processors, using up to 6 threads\n",
      "\n",
      "Optimize a model with 104 rows, 72 columns and 344 nonzeros\n",
      "Model fingerprint: 0x9baffd12\n",
      "Variable types: 0 continuous, 72 integer (72 binary)\n",
      "Coefficient statistics:\n",
      "  Matrix range     [1e+00, 1e+00]\n",
      "  Objective range  [0e+00, 0e+00]\n",
      "  Bounds range     [1e+00, 1e+00]\n",
      "  RHS range        [1e+00, 4e+00]\n",
      "\n",
      "MIP start from previous solve did not produce a new incumbent solution\n",
      "MIP start from previous solve violates constraint R28 by 1.000000000\n",
      "\n",
      "Presolve removed 60 rows and 64 columns\n",
      "Presolve time: 0.00s\n",
      "\n",
      "Explored 0 nodes (0 simplex iterations) in 0.01 seconds (0.00 work units)\n",
      "Thread count was 1 (of 6 available processors)\n",
      "\n",
      "Solution count 0\n",
      "\n",
      "Model is infeasible\n",
      "Best objective -, best bound -, gap -\n"
     ]
    }
   ],
   "source": [
    "busDriverScheduling.model.optimize()"
   ]
  },
  {
   "cell_type": "code",
   "execution_count": null,
   "metadata": {},
   "outputs": [
    {
     "data": {
      "text/plain": [
       "<gurobi.Model MIP instance bus_driver_scheduling: 104 constrs, 72 vars, No parameter changes>"
      ]
     },
     "execution_count": 160,
     "metadata": {},
     "output_type": "execute_result"
    }
   ],
   "source": [
    "busDriverScheduling.model"
   ]
  },
  {
   "cell_type": "code",
   "execution_count": null,
   "metadata": {},
   "outputs": [],
   "source": [
    "busDriverScheduling.get_solution()"
   ]
  },
  {
   "cell_type": "code",
   "execution_count": null,
   "metadata": {},
   "outputs": [
    {
     "name": "stdout",
     "output_type": "stream",
     "text": [
      "Gurobi Optimizer version 10.0.1 build v10.0.1rc0 (win64)\n",
      "\n",
      "CPU model: Intel(R) Core(TM) i5-9400F CPU @ 2.90GHz, instruction set [SSE2|AVX|AVX2]\n",
      "Thread count: 6 physical cores, 6 logical processors, using up to 6 threads\n",
      "\n",
      "Optimize a model with 104 rows, 72 columns and 344 nonzeros\n",
      "Model fingerprint: 0x9baffd12\n",
      "Variable types: 0 continuous, 72 integer (72 binary)\n",
      "Coefficient statistics:\n",
      "  Matrix range     [1e+00, 1e+00]\n",
      "  Objective range  [0e+00, 0e+00]\n",
      "  Bounds range     [1e+00, 1e+00]\n",
      "  RHS range        [1e+00, 4e+00]\n",
      "\n",
      "MIP start from previous solve did not produce a new incumbent solution\n",
      "MIP start from previous solve violates constraint R28 by 1.000000000\n",
      "\n",
      "Presolve removed 60 rows and 64 columns\n",
      "Presolve time: 0.00s\n",
      "\n",
      "Explored 0 nodes (0 simplex iterations) in 0.01 seconds (0.00 work units)\n",
      "Thread count was 1 (of 6 available processors)\n",
      "\n",
      "Solution count 0\n",
      "\n",
      "Model is infeasible\n",
      "Best objective -, best bound -, gap -\n"
     ]
    }
   ],
   "source": [
    "busDriverScheduling.model.optimize()"
   ]
  },
  {
   "cell_type": "code",
   "execution_count": null,
   "metadata": {},
   "outputs": [
    {
     "data": {
      "text/plain": [
       "<gurobi.Model MIP instance bus_driver_scheduling: 104 constrs, 72 vars, No parameter changes>"
      ]
     },
     "execution_count": 165,
     "metadata": {},
     "output_type": "execute_result"
    }
   ],
   "source": [
    "busDriverScheduling.model"
   ]
  },
  {
   "cell_type": "code",
   "execution_count": null,
   "metadata": {},
   "outputs": [],
   "source": [
    "from gurobipy import GRB\n",
    "if busDriverScheduling.model.status == GRB.OPTIMAL:\n",
    "    for v in busDriverScheduling.model.getMVars():\n",
    "        print('%s %g' % (v.varName, v.x))\n",
    "    else:\n",
    "        print('No solution')"
   ]
  },
  {
   "cell_type": "code",
   "execution_count": null,
   "metadata": {},
   "outputs": [
    {
     "name": "stdout",
     "output_type": "stream",
     "text": [
      "Gurobi Optimizer version 10.0.1 build v10.0.1rc0 (win64)\n",
      "\n",
      "CPU model: Intel(R) Core(TM) i5-9400F CPU @ 2.90GHz, instruction set [SSE2|AVX|AVX2]\n",
      "Thread count: 6 physical cores, 6 logical processors, using up to 6 threads\n",
      "\n",
      "Optimize a model with 404 rows, 288 columns and 1376 nonzeros\n",
      "Model fingerprint: 0x0ad5876e\n",
      "Variable types: 0 continuous, 288 integer (288 binary)\n",
      "Coefficient statistics:\n",
      "  Matrix range     [1e+00, 1e+00]\n",
      "  Objective range  [0e+00, 0e+00]\n",
      "  Bounds range     [1e+00, 1e+00]\n",
      "  RHS range        [1e+00, 4e+00]\n",
      "Presolve removed 8 rows and 8 columns\n",
      "Presolve time: 0.00s\n",
      "\n",
      "Explored 0 nodes (0 simplex iterations) in 0.01 seconds (0.00 work units)\n",
      "Thread count was 1 (of 6 available processors)\n",
      "\n",
      "Solution count 0\n",
      "\n",
      "Model is infeasible\n",
      "Best objective -, best bound -, gap -\n",
      "[0. 0. 0. 0. 0. 0.]\n",
      "No solution\n"
     ]
    }
   ],
   "source": [
    "from bus_driver_scheduling_test import BusDriverSchedulingTest\n",
    "test = BusDriverSchedulingTest()\n",
    "test.testHella()"
   ]
  },
  {
   "cell_type": "code",
   "execution_count": null,
   "metadata": {},
   "outputs": [],
   "source": []
  }
 ],
 "metadata": {
  "kernelspec": {
   "display_name": "base",
   "language": "python",
   "name": "python3"
  },
  "language_info": {
   "codemirror_mode": {
    "name": "ipython",
    "version": 3
   },
   "file_extension": ".py",
   "mimetype": "text/x-python",
   "name": "python",
   "nbconvert_exporter": "python",
   "pygments_lexer": "ipython3",
   "version": "3.10.9"
  },
  "orig_nbformat": 4
 },
 "nbformat": 4,
 "nbformat_minor": 2
}

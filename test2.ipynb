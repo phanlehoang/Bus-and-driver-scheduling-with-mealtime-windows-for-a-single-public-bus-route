{
 "cells": [
  {
   "cell_type": "code",
   "execution_count": 1,
   "metadata": {},
   "outputs": [
    {
     "name": "stdout",
     "output_type": "stream",
     "text": [
      "Restricted license - for non-production use only - expires 2024-10-28\n"
     ]
    }
   ],
   "source": [
    "# Tạo model toán học\n",
    "import gurobipy as gp\n",
    "\n",
    "from gurobipy import GRB\n",
    "\n",
    "# Tạo model\n",
    "m = gp.Model(\"mip1\")"
   ]
  },
  {
   "cell_type": "code",
   "execution_count": 2,
   "metadata": {},
   "outputs": [],
   "source": [
    "x = m.addVar(vtype=GRB.BINARY, name=\"x\")\n",
    "y = m.addVar(vtype=GRB.BINARY, name=\"y\")\n",
    "z = m.addVar(vtype=GRB.BINARY, name=\"z\")\n",
    "\n",
    "m.addConstr(x + 2 * y + 3 * z <= 4, \"c0\")\n",
    "m.setObjective(x + y + 2 * z, GRB.MAXIMIZE)"
   ]
  },
  {
   "cell_type": "code",
   "execution_count": 3,
   "metadata": {},
   "outputs": [
    {
     "data": {
      "text/plain": [
       "<gurobi.Model Continuous instance mip1: 0 constrs, 0 vars, No parameter changes>"
      ]
     },
     "execution_count": 3,
     "metadata": {},
     "output_type": "execute_result"
    }
   ],
   "source": [
    "m"
   ]
  },
  {
   "cell_type": "code",
   "execution_count": 4,
   "metadata": {},
   "outputs": [
    {
     "name": "stdout",
     "output_type": "stream",
     "text": [
      "Gurobi Optimizer version 10.0.1 build v10.0.1rc0 (win64)\n",
      "\n",
      "CPU model: Intel(R) Core(TM) i5-9400F CPU @ 2.90GHz, instruction set [SSE2|AVX|AVX2]\n",
      "Thread count: 6 physical cores, 6 logical processors, using up to 6 threads\n",
      "\n",
      "Optimize a model with 1 rows, 3 columns and 3 nonzeros\n",
      "Model fingerprint: 0x3eaaf627\n",
      "Variable types: 0 continuous, 3 integer (3 binary)\n",
      "Coefficient statistics:\n",
      "  Matrix range     [1e+00, 3e+00]\n",
      "  Objective range  [1e+00, 2e+00]\n",
      "  Bounds range     [1e+00, 1e+00]\n",
      "  RHS range        [4e+00, 4e+00]\n",
      "Found heuristic solution: objective 2.0000000\n",
      "Presolve removed 1 rows and 3 columns\n",
      "Presolve time: 0.00s\n",
      "Presolve: All rows and columns removed\n",
      "\n",
      "Explored 0 nodes (0 simplex iterations) in 0.01 seconds (0.00 work units)\n",
      "Thread count was 1 (of 6 available processors)\n",
      "\n",
      "Solution count 2: 3 2 \n",
      "\n",
      "Optimal solution found (tolerance 1.00e-04)\n",
      "Best objective 3.000000000000e+00, best bound 3.000000000000e+00, gap 0.0000%\n"
     ]
    }
   ],
   "source": [
    "m.optimize()"
   ]
  },
  {
   "cell_type": "code",
   "execution_count": null,
   "metadata": {},
   "outputs": [],
   "source": [
    "import numpy as np\n",
    "\n",
    "def column_generation(c, A, b):\n",
    "    # Initialize the list of indices of basic variables\n",
    "    basis = [1, 2, 3]\n",
    "    \n",
    "    # Extract the submatrices of A and c corresponding to the basic variables\n",
    "    B = A[:, basis]\n",
    "    c_B = c[basis]\n",
    "    \n",
    "    # Calculate the basic solution\n",
    "    x_B = np.linalg.pinv(B) @ b\n",
    "    \n",
    "    # Calculate the dual variables\n",
    "    y = np.linalg.pinv(B.T) @ c_B\n",
    "    reduced_costs = c - A.T @ y\n",
    "    \n",
    "    # Check if the solution is optimal\n",
    "    if np.all(reduced_costs >= 0):\n",
    "        return x_B[basis], np.dot(x_B, c_B)\n",
    "    \n",
    "    # Find the index of the most negative reduced cost\n",
    "    entering_var = np.argmin(reduced_costs)\n",
    "    \n",
    "    # Calculate the new column\n",
    "    new_col = np.linalg.pinv(B) @ A[:, entering_var]\n",
    "    \n",
    "    # Add the new column to the basis\n",
    "    basis.append(entering_var)\n",
    "    \n",
    "    # Recursively solve the subproblem\n",
    "    x, obj_val = column_generation(c, A, b)\n",
    "    \n",
    "    return x, obj_val\n",
    "\n",
    "\n",
    "# Define the problem data\n",
    "c = np.array([1, 1, 1, 0, 0, 0])\n",
    "A = np.array([\n",
    "    [1, 1, 1, 0, 0, 0],\n",
    "    [0, 0, 0, 1, 1, 1],\n",
    "    [1, 0, 0, 1, 0, 0],\n",
    "    [0, 1, 0, 0, 1, 0],\n",
    "    [0, 0, 1, 0, 0, 1],\n",
    "])\n",
    "b = np.array([3, 3, 2, 2, 2])\n",
    "\n",
    "# Solve the problem using column generation\n",
    "x, obj_val = column_generation(c, A, b)\n",
    "\n",
    "# Print the solution\n",
    "print(\"x =\", x)\n",
    "print(\"obj_val =\", obj_val)\n"
   ]
  }
 ],
 "metadata": {
  "kernelspec": {
   "display_name": "base",
   "language": "python",
   "name": "python3"
  },
  "language_info": {
   "codemirror_mode": {
    "name": "ipython",
    "version": 3
   },
   "file_extension": ".py",
   "mimetype": "text/x-python",
   "name": "python",
   "nbconvert_exporter": "python",
   "pygments_lexer": "ipython3",
   "version": "3.5.6"
  },
  "orig_nbformat": 4
 },
 "nbformat": 4,
 "nbformat_minor": 2
}
